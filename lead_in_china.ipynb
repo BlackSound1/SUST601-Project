{
 "cells": [
  {
   "metadata": {},
   "cell_type": "markdown",
   "source": [
    "# Lead in Guiyu Air vs. Control Areas\n",
    "\n",
    "This notebook creates a chart based on Lead (Pb) particle concentration in Guiyu China in comparison with other areas.\n",
    "\n",
    "This notebook is based on:\n",
    "\n",
    "[1] W. J. Deng, P. K. K. Louie, W. K. Liu, X. H. Bi, J. M. Fu, and M. H. Wong, “Atmospheric levels and cytotoxicity of PAHs and heavy metals in TSP and PM2.5 at an electronic waste recycling site in southeast China,” Atmospheric Environment, vol. 40, no. 36, pp. 6945–6955, Nov. 2006, doi: 10.1016/j.atmosenv.2006.06.032.\n",
    "\n",
    "[2] World Health Organization, Ed., Air quality guidelines for Europe, 2nd ed. in WHO regional publications, no. no. 91. Copenhagen: World Health Organization, Regional Office for Europe, 2000.\n",
    "\n",
    "[3] F. Var, Y. Narita, and S. Tanaka, “The concentration, trend and seasonal variation of metals in the atmosphere in 16 Japanese cities shown by the results of National Air Surveillance Network (NASN) from 1974 to 1996,” Atmospheric Environment, vol. 34, no. 17, pp. 2755–2770, Jan. 2000, doi: 10.1016/S1352-2310(99)00353-2.\n",
    "\n",
    "[4] K.-H. Kim et al., “The chemical composition of fine and coarse particles in relation with the Asian Dust events,” Atmospheric Environment, vol. 37, no. 6, pp. 753–765, Feb. 2003, doi: 10.1016/S1352-2310(02)00954-8.\n",
    "\n",
    "[5] KostisPar, “Answer to ‘Pandas plot bar without NaN values spaces,’” Stack Overflow. Accessed: Jun. 08, 2024. [Online]. Available: https://stackoverflow.com/a/70019779"
   ],
   "id": "ffe661ebd529fe63"
  },
  {
   "cell_type": "code",
   "id": "initial_id",
   "metadata": {
    "collapsed": true,
    "ExecuteTime": {
     "end_time": "2024-06-11T20:10:49.491177Z",
     "start_time": "2024-06-11T20:10:49.486687Z"
    }
   },
   "source": [
    "import pandas as pd\n",
    "import numpy as np\n",
    "import matplotlib.pyplot as plt"
   ],
   "outputs": [],
   "execution_count": 11
  },
  {
   "metadata": {
    "ExecuteTime": {
     "end_time": "2024-06-11T20:10:49.522123Z",
     "start_time": "2024-06-11T20:10:49.508470Z"
    }
   },
   "cell_type": "code",
   "source": [
    "locations = (\"Guiyu\", \"Non-urban Areas\", \"Tokyo\", \"Seoul\")\n",
    "\n",
    "# Guiyu data from [1].  Non-urban data from [2]. Tokyo data from [3]. Seoul data from [4].\n",
    "data = {\n",
    "    \"TSP\": [444, np.nan, 124.7, np.nan],\n",
    "    \"PM\": [392, np.nan, np.nan, 124],\n",
    "    \"Unspecified\": [np.nan, 150, np.nan, np.nan]\n",
    "}\n",
    "\n",
    "df = pd.DataFrame(data, index=locations)\n",
    "df"
   ],
   "id": "e509ef3a2303a654",
   "outputs": [
    {
     "data": {
      "text/plain": [
       "                   TSP     PM  Unspecified\n",
       "Guiyu            444.0  392.0          NaN\n",
       "Non-urban Areas    NaN    NaN        150.0\n",
       "Tokyo            124.7    NaN          NaN\n",
       "Seoul              NaN  124.0          NaN"
      ],
      "text/html": [
       "<div>\n",
       "<style scoped>\n",
       "    .dataframe tbody tr th:only-of-type {\n",
       "        vertical-align: middle;\n",
       "    }\n",
       "\n",
       "    .dataframe tbody tr th {\n",
       "        vertical-align: top;\n",
       "    }\n",
       "\n",
       "    .dataframe thead th {\n",
       "        text-align: right;\n",
       "    }\n",
       "</style>\n",
       "<table border=\"1\" class=\"dataframe\">\n",
       "  <thead>\n",
       "    <tr style=\"text-align: right;\">\n",
       "      <th></th>\n",
       "      <th>TSP</th>\n",
       "      <th>PM</th>\n",
       "      <th>Unspecified</th>\n",
       "    </tr>\n",
       "  </thead>\n",
       "  <tbody>\n",
       "    <tr>\n",
       "      <th>Guiyu</th>\n",
       "      <td>444.0</td>\n",
       "      <td>392.0</td>\n",
       "      <td>NaN</td>\n",
       "    </tr>\n",
       "    <tr>\n",
       "      <th>Non-urban Areas</th>\n",
       "      <td>NaN</td>\n",
       "      <td>NaN</td>\n",
       "      <td>150.0</td>\n",
       "    </tr>\n",
       "    <tr>\n",
       "      <th>Tokyo</th>\n",
       "      <td>124.7</td>\n",
       "      <td>NaN</td>\n",
       "      <td>NaN</td>\n",
       "    </tr>\n",
       "    <tr>\n",
       "      <th>Seoul</th>\n",
       "      <td>NaN</td>\n",
       "      <td>124.0</td>\n",
       "      <td>NaN</td>\n",
       "    </tr>\n",
       "  </tbody>\n",
       "</table>\n",
       "</div>"
      ]
     },
     "execution_count": 12,
     "metadata": {},
     "output_type": "execute_result"
    }
   ],
   "execution_count": 12
  },
  {
   "metadata": {
    "ExecuteTime": {
     "end_time": "2024-06-11T20:10:49.533649Z",
     "start_time": "2024-06-11T20:10:49.524130Z"
    }
   },
   "cell_type": "code",
   "source": [
    "# Ensure proper types\n",
    "df = df.astype({\"TSP\": float, \"PM\": float, \"Unspecified\": float})\n",
    "df"
   ],
   "id": "7b56200cec15e0c6",
   "outputs": [
    {
     "data": {
      "text/plain": [
       "                   TSP     PM  Unspecified\n",
       "Guiyu            444.0  392.0          NaN\n",
       "Non-urban Areas    NaN    NaN        150.0\n",
       "Tokyo            124.7    NaN          NaN\n",
       "Seoul              NaN  124.0          NaN"
      ],
      "text/html": [
       "<div>\n",
       "<style scoped>\n",
       "    .dataframe tbody tr th:only-of-type {\n",
       "        vertical-align: middle;\n",
       "    }\n",
       "\n",
       "    .dataframe tbody tr th {\n",
       "        vertical-align: top;\n",
       "    }\n",
       "\n",
       "    .dataframe thead th {\n",
       "        text-align: right;\n",
       "    }\n",
       "</style>\n",
       "<table border=\"1\" class=\"dataframe\">\n",
       "  <thead>\n",
       "    <tr style=\"text-align: right;\">\n",
       "      <th></th>\n",
       "      <th>TSP</th>\n",
       "      <th>PM</th>\n",
       "      <th>Unspecified</th>\n",
       "    </tr>\n",
       "  </thead>\n",
       "  <tbody>\n",
       "    <tr>\n",
       "      <th>Guiyu</th>\n",
       "      <td>444.0</td>\n",
       "      <td>392.0</td>\n",
       "      <td>NaN</td>\n",
       "    </tr>\n",
       "    <tr>\n",
       "      <th>Non-urban Areas</th>\n",
       "      <td>NaN</td>\n",
       "      <td>NaN</td>\n",
       "      <td>150.0</td>\n",
       "    </tr>\n",
       "    <tr>\n",
       "      <th>Tokyo</th>\n",
       "      <td>124.7</td>\n",
       "      <td>NaN</td>\n",
       "      <td>NaN</td>\n",
       "    </tr>\n",
       "    <tr>\n",
       "      <th>Seoul</th>\n",
       "      <td>NaN</td>\n",
       "      <td>124.0</td>\n",
       "      <td>NaN</td>\n",
       "    </tr>\n",
       "  </tbody>\n",
       "</table>\n",
       "</div>"
      ]
     },
     "execution_count": 13,
     "metadata": {},
     "output_type": "execute_result"
    }
   ],
   "execution_count": 13
  },
  {
   "metadata": {
    "ExecuteTime": {
     "end_time": "2024-06-11T20:10:49.546887Z",
     "start_time": "2024-06-11T20:10:49.536666Z"
    }
   },
   "cell_type": "code",
   "source": [
    "# Reset index\n",
    "df = df.reset_index()\n",
    "df"
   ],
   "id": "7c6061e44fd76067",
   "outputs": [
    {
     "data": {
      "text/plain": [
       "             index    TSP     PM  Unspecified\n",
       "0            Guiyu  444.0  392.0          NaN\n",
       "1  Non-urban Areas    NaN    NaN        150.0\n",
       "2            Tokyo  124.7    NaN          NaN\n",
       "3            Seoul    NaN  124.0          NaN"
      ],
      "text/html": [
       "<div>\n",
       "<style scoped>\n",
       "    .dataframe tbody tr th:only-of-type {\n",
       "        vertical-align: middle;\n",
       "    }\n",
       "\n",
       "    .dataframe tbody tr th {\n",
       "        vertical-align: top;\n",
       "    }\n",
       "\n",
       "    .dataframe thead th {\n",
       "        text-align: right;\n",
       "    }\n",
       "</style>\n",
       "<table border=\"1\" class=\"dataframe\">\n",
       "  <thead>\n",
       "    <tr style=\"text-align: right;\">\n",
       "      <th></th>\n",
       "      <th>index</th>\n",
       "      <th>TSP</th>\n",
       "      <th>PM</th>\n",
       "      <th>Unspecified</th>\n",
       "    </tr>\n",
       "  </thead>\n",
       "  <tbody>\n",
       "    <tr>\n",
       "      <th>0</th>\n",
       "      <td>Guiyu</td>\n",
       "      <td>444.0</td>\n",
       "      <td>392.0</td>\n",
       "      <td>NaN</td>\n",
       "    </tr>\n",
       "    <tr>\n",
       "      <th>1</th>\n",
       "      <td>Non-urban Areas</td>\n",
       "      <td>NaN</td>\n",
       "      <td>NaN</td>\n",
       "      <td>150.0</td>\n",
       "    </tr>\n",
       "    <tr>\n",
       "      <th>2</th>\n",
       "      <td>Tokyo</td>\n",
       "      <td>124.7</td>\n",
       "      <td>NaN</td>\n",
       "      <td>NaN</td>\n",
       "    </tr>\n",
       "    <tr>\n",
       "      <th>3</th>\n",
       "      <td>Seoul</td>\n",
       "      <td>NaN</td>\n",
       "      <td>124.0</td>\n",
       "      <td>NaN</td>\n",
       "    </tr>\n",
       "  </tbody>\n",
       "</table>\n",
       "</div>"
      ]
     },
     "execution_count": 14,
     "metadata": {},
     "output_type": "execute_result"
    }
   ],
   "execution_count": 14
  },
  {
   "metadata": {
    "ExecuteTime": {
     "end_time": "2024-06-11T20:10:49.813993Z",
     "start_time": "2024-06-11T20:10:49.547897Z"
    }
   },
   "cell_type": "code",
   "source": [
    "# This design based on [5].\n",
    "\n",
    "width = 1\n",
    "multiplier = 0\n",
    "\n",
    "# Create empty lists for x tick positions and names\n",
    "x_ticks, x_tick_pos = [], []\n",
    "\n",
    "# Define colors for each column\n",
    "colors = {'TSP': 'blue', 'PM': 'orange', 'Unspecified': 'purple'}\n",
    "\n",
    "# Go through each row in the df\n",
    "for idx, row in df.iterrows():\n",
    "    multiplier += 1\n",
    "    \n",
    "    start_idx = multiplier - width / 2\n",
    "    \n",
    "    end_idx = start_idx\n",
    "    \n",
    "    for col in df.drop(\"index\", axis=1).columns:\n",
    "        if row[col] == row[col]:\n",
    "            cont = plt.bar(multiplier, row[col], color=colors[col], width=width, label=col)\n",
    "            multiplier += 1\n",
    "            end_idx += width\n",
    "            plt.bar_label(cont, padding=3)  # Add value to the bar\n",
    "            \n",
    "    if end_idx != start_idx:\n",
    "        x_tick_pos.append((start_idx + end_idx) / 2)\n",
    "        x_ticks.append(row[\"index\"])\n",
    "\n",
    "# Handle chart metadata\n",
    "plt.xticks(x_tick_pos, x_ticks)\n",
    "plt.ylabel(\"Nanograms per cubic meter\")\n",
    "plt.title(\"Lead (Pb) Air Concentration in Guiyu vs. Control Areas\")\n",
    "plt.ylim(0, 500)\n",
    "\n",
    "# Handle legend\n",
    "handles, labels = plt.gca().get_legend_handles_labels()\n",
    "by_label = dict(zip(labels, handles))\n",
    "plt.legend(by_label.values(), by_label.keys())\n",
    "\n",
    "# Save the resulting plot\n",
    "plt.savefig(\"images/lead_china.png\")"
   ],
   "id": "a628557c2a57c7c6",
   "outputs": [
    {
     "data": {
      "text/plain": [
       "<Figure size 640x480 with 1 Axes>"
      ],
      "image/png": "[encoded data removed]"
     },
     "metadata": {},
     "output_type": "display_data"
    }
   ],
   "execution_count": 15
  }
 ],
 "metadata": {
  "kernelspec": {
   "display_name": "Python 3",
   "language": "python",
   "name": "python3"
  },
  "language_info": {
   "codemirror_mode": {
    "name": "ipython",
    "version": 2
   },
   "file_extension": ".py",
   "mimetype": "text/x-python",
   "name": "python",
   "nbconvert_exporter": "python",
   "pygments_lexer": "ipython2",
   "version": "2.7.6"
  }
 },
 "nbformat": 4,
 "nbformat_minor": 5
}
